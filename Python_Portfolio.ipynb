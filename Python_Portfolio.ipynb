{
  "nbformat": 4,
  "nbformat_minor": 0,
  "metadata": {
    "colab": {
      "name": "Python_Portfolio.ipynb",
      "provenance": [],
      "collapsed_sections": [],
      "toc_visible": true,
      "authorship_tag": "ABX9TyNCl4SrB7kymSBVH/mTlHh3",
      "include_colab_link": true
    },
    "kernelspec": {
      "name": "python3",
      "display_name": "Python 3"
    },
    "language_info": {
      "name": "python"
    }
  },
  "cells": [
    {
      "cell_type": "markdown",
      "metadata": {
        "id": "view-in-github",
        "colab_type": "text"
      },
      "source": [
        "<a href=\"https://colab.research.google.com/github/goodDev-junhyuk/Stock_Data/blob/main/Python_Portfolio.ipynb\" target=\"_parent\"><img src=\"https://colab.research.google.com/assets/colab-badge.svg\" alt=\"Open In Colab\"/></a>"
      ]
    },
    {
      "cell_type": "markdown",
      "metadata": {
        "id": "1mDIsIKWS0Yr"
      },
      "source": [
        "# 1. Py_exam01.py\n"
      ]
    },
    {
      "cell_type": "code",
      "metadata": {
        "colab": {
          "base_uri": "https://localhost:8080/"
        },
        "id": "xOanABz8SWN6",
        "outputId": "c7c308d8-4769-4af2-ba39-73968f89b7ee"
      },
      "source": [
        "print(\"Hello Python..!\")\n",
        "print(1+2)"
      ],
      "execution_count": null,
      "outputs": [
        {
          "output_type": "stream",
          "name": "stdout",
          "text": [
            "Hello Python..!\n",
            "3\n"
          ]
        }
      ]
    },
    {
      "cell_type": "code",
      "metadata": {
        "id": "574TrTugUiHO",
        "colab": {
          "base_uri": "https://localhost:8080/"
        },
        "outputId": "6e5b23d4-8b0a-42ac-f908-53523d7cdd7e"
      },
      "source": [
        "cashflows = [12000, 15000, 18000, 21000, 26000]\n",
        "i = 0\n",
        "r = 0.015\n",
        "\n",
        "npv = -70000\n",
        "\n",
        "for c in cashflows:\n",
        "    i = i+1\n",
        "    npv = npv + c/(1+r)**i\n",
        "\n",
        "print(npv)"
      ],
      "execution_count": 1,
      "outputs": [
        {
          "output_type": "stream",
          "name": "stdout",
          "text": [
            "17516.929512135568\n"
          ]
        }
      ]
    },
    {
      "cell_type": "code",
      "metadata": {
        "colab": {
          "base_uri": "https://localhost:8080/"
        },
        "id": "u9lNSkxgCd25",
        "outputId": "5085cc65-1554-49d0-9a7f-8eca8c509c57"
      },
      "source": [
        "# 기간별 수익률을 returns 리스트에 저장\n",
        "returns = [0.1, 0.06, 0.05]\n",
        "\n",
        "# 합계를 저장할 변수 \n",
        "sumOfReturn = 0.0\n",
        "\n",
        "# 평균을 저장할 변수\n",
        "arimean = 0.0\n",
        "geomean = 1.0\n",
        "\n",
        "# 기간별 수익률의 데이터 개수\n",
        "n = len(returns)\n",
        "\n",
        "# returns 리스트를 for 루프로 반복, 반복하는 동안 각 수익률을 변수 r로 받는다.\n",
        "for r in returns:\n",
        "    sumOfReturn = sumOfReturn + r\n",
        "    \n",
        "arimean = sumOfReturn + r\n",
        "\n",
        "arimean = sumOfReturn / 3\n",
        "print('AriMean is {:.2%}'.format(arimean))"
      ],
      "execution_count": 20,
      "outputs": [
        {
          "output_type": "stream",
          "name": "stdout",
          "text": [
            "AriMean is 7.00%\n"
          ]
        }
      ]
    }
  ]
}